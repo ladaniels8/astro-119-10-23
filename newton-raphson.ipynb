{
 "cells": [
  {
   "cell_type": "markdown",
   "metadata": {},
   "source": [
    "# A newton raphson Root Finding Implementation"
   ]
  },
  {
   "cell_type": "code",
   "execution_count": 1,
   "metadata": {},
   "outputs": [
    {
     "name": "stderr",
     "output_type": "stream",
     "text": [
      "/Library/Frameworks/Python.framework/Versions/3.6/lib/python3.6/site-packages/matplotlib/font_manager.py:229: UserWarning: Matplotlib is building the font cache using fc-list. This may take a moment.\n",
      "  'Matplotlib is building the font cache using fc-list. '\n"
     ]
    }
   ],
   "source": [
    "%matplotlib inline\n",
    "import numpy as np \n",
    "import matplotlib.pyplot as plt"
   ]
  },
  {
   "cell_type": "markdown",
   "metadata": {},
   "source": [
    "## define the function for root finding"
   ]
  },
  {
   "cell_type": "code",
   "execution_count": 2,
   "metadata": {},
   "outputs": [],
   "source": [
    "def function_for_root(x):\n",
    "    a = 1.01\n",
    "    b = -3.04\n",
    "    c = 2.07\n",
    "    return a*x**2 + b*x + c"
   ]
  },
  {
   "cell_type": "markdown",
   "metadata": {},
   "source": [
    "## define the function derivative"
   ]
  },
  {
   "cell_type": "code",
   "execution_count": 3,
   "metadata": {},
   "outputs": [],
   "source": [
    "def derivative_for_root(x):\n",
    "    a = 1.01\n",
    "    b = -3.04\n",
    "    return 2*a*x +b"
   ]
  },
  {
   "cell_type": "markdown",
   "metadata": {},
   "source": [
    "## define the primary work function"
   ]
  },
  {
   "cell_type": "code",
   "execution_count": 5,
   "metadata": {},
   "outputs": [],
   "source": [
    "def newton_raphson_root_finding(f, dfdx, x_start, tol):\n",
    "    \n",
    "    #this function uses newton-raphson search to find a root\n",
    "    #set a flag\n",
    "    flag = 1\n",
    "    \n",
    "    #set a max number of iterations\n",
    "    imax = 10000\n",
    "    \n",
    "    #start a counter \n",
    "    i = 0\n",
    "    \n",
    "    #define the new and old guesses\n",
    "    x_old = x_start\n",
    "    x_new = 0.0\n",
    "    y_new = 0.0\n",
    "    \n",
    "    #start the loop \n",
    "    while(flag):\n",
    "        #make a new guess \n",
    "        x_new = x_old - f(x_old)/dfdx(x_old)\n",
    "        \n",
    "        #print out the itertion\n",
    "        print(x_new,x_old,f(x_old),dfdx(x_old))\n",
    "        \n",
    "        #if the abs value of the new function vale is < tol, then stop \n",
    "        y_new = f(x_new)\n",
    "        if(np.fabs(y_new)<tol):\n",
    "            flag = 0 #stop the iteration\n",
    "        else:\n",
    "            #save the result\n",
    "            x_old = x_new\n",
    "            #increment the iteration \n",
    "            i += 1\n",
    "            \n",
    "        if(i>=imax):\n",
    "            printf(\"Max iterations reached.\")\n",
    "            raise StopIteration('Stopping iterations after ',i)\n",
    "            \n",
    "    #we are done!\n",
    "    return x_new"
   ]
  },
  {
   "cell_type": "markdown",
   "metadata": {},
   "source": [
    "## preform the search "
   ]
  },
  {
   "cell_type": "code",
   "execution_count": 8,
   "metadata": {},
   "outputs": [
    {
     "name": "stdout",
     "output_type": "stream",
     "text": [
      "0.5 0.8024999999999998\n",
      "0.8953201970443347 0.5 0.8024999999999998 -2.0300000000000002\n",
      "1.023494648595172 0.8953201970443347 0.15784083877308386 -1.2314532019704438\n",
      "1.040556119705499 1.023494648595172 0.016592976930660974 -0.9725408098377528\n",
      "1.040869531981685 1.040556119705499 0.00029400473441354436 -0.9380766381948917\n",
      "1.0408696378115536 1.040869531981685 9.920952726005794e-08 -0.9374435453969965\n",
      "1.0408696378115654 1.0408696378115536 1.1102230246251565e-14 -0.9374433316206616\n",
      "root found with y(1.040870) = 0.000000\n"
     ]
    }
   ],
   "source": [
    "x_start = 0.5 \n",
    "tolerance = 1.0e-14 \n",
    "\n",
    "#print the initial guess \n",
    "print(x_start, function_for_root(x_start))\n",
    "x_root = newton_raphson_root_finding(function_for_root,derivative_for_root,x_start,tolerance)\n",
    "y_root = function_for_root(x_root)\n",
    "\n",
    "s = \"root found with y(%f) = %f\" % (x_root,y_root)\n",
    "print(s)"
   ]
  },
  {
   "cell_type": "code",
   "execution_count": null,
   "metadata": {},
   "outputs": [],
   "source": []
  }
 ],
 "metadata": {
  "kernelspec": {
   "display_name": "Python 3",
   "language": "python",
   "name": "python3"
  },
  "language_info": {
   "codemirror_mode": {
    "name": "ipython",
    "version": 3
   },
   "file_extension": ".py",
   "mimetype": "text/x-python",
   "name": "python",
   "nbconvert_exporter": "python",
   "pygments_lexer": "ipython3",
   "version": "3.6.5"
  }
 },
 "nbformat": 4,
 "nbformat_minor": 2
}
